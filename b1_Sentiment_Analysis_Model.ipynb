{
  "nbformat": 4,
  "nbformat_minor": 0,
  "metadata": {
    "colab": {
      "name": "b1_Sentiment_Analysis_Model.ipynb",
      "provenance": [],
      "collapsed_sections": []
    },
    "kernelspec": {
      "name": "python3",
      "display_name": "Python 3"
    }
  },
  "cells": [
    {
      "cell_type": "markdown",
      "metadata": {
        "id": "NE8TiBy1PpHP"
      },
      "source": [
        "###Importing libraries"
      ]
    },
    {
      "cell_type": "code",
      "metadata": {
        "id": "UA-jPWIqK59Q"
      },
      "source": [
        "import numpy as np\n",
        "import pandas as pd"
      ],
      "execution_count": null,
      "outputs": []
    },
    {
      "cell_type": "markdown",
      "metadata": {
        "id": "jAkmz2o3Ps_f"
      },
      "source": [
        "### Importing dataset\n",
        "\n",
        "\n"
      ]
    },
    {
      "cell_type": "code",
      "metadata": {
        "colab": {
          "base_uri": "https://localhost:8080/"
        },
        "id": "oORlzsp1wiG6",
        "outputId": "5a8720e2-39ce-4a8a-e29a-14d03c9587aa"
      },
      "source": [
        "from google.colab import drive\n",
        "drive.mount('/content/drive')"
      ],
      "execution_count": null,
      "outputs": [
        {
          "output_type": "stream",
          "name": "stdout",
          "text": [
            "Drive already mounted at /content/drive; to attempt to forcibly remount, call drive.mount(\"/content/drive\", force_remount=True).\n"
          ]
        }
      ]
    },
    {
      "cell_type": "code",
      "metadata": {
        "id": "rEyDbEwbOWgp"
      },
      "source": [
        "# dataset = pd.read_csv('./drive/MyDrive/Project1_Sentiment_Analysis/Half_data/Half_data.tsv', delimiter = '\\t', quoting = 3)\n",
        "# dataset = pd.read_csv('./drive/MyDrive/Project1_Sentiment_Analysis/Half_data/Half_data.csv', delimiter = ',', quoting = 0, encoding='cp1252')\n",
        "# dataset = pd.read_csv('./drive/MyDrive/Project1_Sentiment_Analysis/New_try/MyProjWords.csv', delimiter = ',', quoting = 0, encoding='cp1252')\n",
        "dataset = pd.read_csv('./drive/MyDrive/Project1_Sentiment_Analysis/With_actual_words/actual_word_list.csv', delimiter = ',', quoting = 0, encoding='cp1252')"
      ],
      "execution_count": null,
      "outputs": []
    },
    {
      "cell_type": "code",
      "metadata": {
        "id": "5I60cmjOPxSY",
        "colab": {
          "base_uri": "https://localhost:8080/"
        },
        "outputId": "0d3cfcf2-2a5e-4994-ebd5-2db2fd720950"
      },
      "source": [
        "dataset.shape"
      ],
      "execution_count": null,
      "outputs": [
        {
          "output_type": "execute_result",
          "data": {
            "text/plain": [
              "(6833, 2)"
            ]
          },
          "metadata": {},
          "execution_count": 158
        }
      ]
    },
    {
      "cell_type": "code",
      "metadata": {
        "id": "OogtEOYrO-CW",
        "colab": {
          "base_uri": "https://localhost:8080/",
          "height": 206
        },
        "outputId": "2a8058f8-0814-4db1-d1c5-d4a1395ebf9e"
      },
      "source": [
        "dataset.head()"
      ],
      "execution_count": null,
      "outputs": [
        {
          "output_type": "execute_result",
          "data": {
            "text/html": [
              "<div>\n",
              "<style scoped>\n",
              "    .dataframe tbody tr th:only-of-type {\n",
              "        vertical-align: middle;\n",
              "    }\n",
              "\n",
              "    .dataframe tbody tr th {\n",
              "        vertical-align: top;\n",
              "    }\n",
              "\n",
              "    .dataframe thead th {\n",
              "        text-align: right;\n",
              "    }\n",
              "</style>\n",
              "<table border=\"1\" class=\"dataframe\">\n",
              "  <thead>\n",
              "    <tr style=\"text-align: right;\">\n",
              "      <th></th>\n",
              "      <th>Review</th>\n",
              "      <th>Liked</th>\n",
              "    </tr>\n",
              "  </thead>\n",
              "  <tbody>\n",
              "    <tr>\n",
              "      <th>0</th>\n",
              "      <td>absolutely</td>\n",
              "      <td>1</td>\n",
              "    </tr>\n",
              "    <tr>\n",
              "      <th>1</th>\n",
              "      <td>complete</td>\n",
              "      <td>1</td>\n",
              "    </tr>\n",
              "    <tr>\n",
              "      <th>2</th>\n",
              "      <td>completely</td>\n",
              "      <td>1</td>\n",
              "    </tr>\n",
              "    <tr>\n",
              "      <th>3</th>\n",
              "      <td>could</td>\n",
              "      <td>-1</td>\n",
              "    </tr>\n",
              "    <tr>\n",
              "      <th>4</th>\n",
              "      <td>definitely</td>\n",
              "      <td>1</td>\n",
              "    </tr>\n",
              "  </tbody>\n",
              "</table>\n",
              "</div>"
            ],
            "text/plain": [
              "       Review  Liked\n",
              "0  absolutely      1\n",
              "1    complete      1\n",
              "2  completely      1\n",
              "3       could     -1\n",
              "4  definitely      1"
            ]
          },
          "metadata": {},
          "execution_count": 159
        }
      ]
    },
    {
      "cell_type": "markdown",
      "metadata": {
        "id": "j-RW_6DZP-Np"
      },
      "source": [
        "### Data cleaning"
      ]
    },
    {
      "cell_type": "code",
      "metadata": {
        "id": "A7yu8yC0OlYB",
        "colab": {
          "base_uri": "https://localhost:8080/"
        },
        "outputId": "093b53bb-ef42-4f24-8710-031422de7669"
      },
      "source": [
        "import re\n",
        "import nltk\n",
        "\n",
        "nltk.download('stopwords')\n",
        "\n",
        "from nltk.corpus import stopwords\n",
        "from nltk.stem.porter import PorterStemmer\n",
        "ps = PorterStemmer()\n",
        "\n",
        "all_stopwords = stopwords.words('english')\n",
        "all_stopwords.remove('not')"
      ],
      "execution_count": null,
      "outputs": [
        {
          "output_type": "stream",
          "name": "stdout",
          "text": [
            "[nltk_data] Downloading package stopwords to /root/nltk_data...\n",
            "[nltk_data]   Package stopwords is already up-to-date!\n"
          ]
        }
      ]
    },
    {
      "cell_type": "code",
      "metadata": {
        "id": "hXURUSLTOocO"
      },
      "source": [
        "corpus=[]\n",
        "\n",
        "for i in range(0, 6833):\n",
        "  review = re.sub('[^a-zA-Z]', ' ', dataset['Review'][i])\n",
        "  review = review.lower()\n",
        "  review = review.split()\n",
        "  review = [ps.stem(word) for word in review if not word in set(all_stopwords)]\n",
        "  review = ' '.join(review)\n",
        "  corpus.append(review)"
      ],
      "execution_count": null,
      "outputs": []
    },
    {
      "cell_type": "code",
      "metadata": {
        "id": "cmX9tJn98h7M"
      },
      "source": [
        "corpus"
      ],
      "execution_count": null,
      "outputs": []
    },
    {
      "cell_type": "markdown",
      "metadata": {
        "id": "1TctQ_uZQM9A"
      },
      "source": [
        "### Data transformation"
      ]
    },
    {
      "cell_type": "code",
      "metadata": {
        "id": "byh_MglBOsG0"
      },
      "source": [
        "from sklearn.feature_extraction.text import CountVectorizer\n",
        "cv = CountVectorizer(max_features = 1420)"
      ],
      "execution_count": null,
      "outputs": []
    },
    {
      "cell_type": "code",
      "metadata": {
        "id": "KCT0kv6hCN9Y"
      },
      "source": [
        "X = cv.fit_transform(corpus).toarray()\n",
        "y = dataset.iloc[:, -1].values"
      ],
      "execution_count": null,
      "outputs": []
    },
    {
      "cell_type": "code",
      "metadata": {
        "id": "CcbH54t3MZIC"
      },
      "source": [
        "# Saving BoW dictionary to later use in prediction\n",
        "import pickle\n",
        "#bow_path = './drive/MyDrive/Project1_Sentiment_Analysis/already/c1_BoW_Sentiment_Model.pkl'\n",
        "#bow_path = './drive/MyDrive/Project1_Sentiment_Analysis/Half_data/c1_BoW_Sentiment_Model.pkl'\n",
        "#bow_path = './drive/MyDrive/Project1_Sentiment_Analysis/New_try/c1_BoW_Sentiment_Model.pkl'\n",
        "bow_path = './drive/MyDrive/Project1_Sentiment_Analysis/With_actual_words/c1_BoW_Sentiment_Model.pkl'\n",
        "pickle.dump(cv, open(bow_path, \"wb\"))"
      ],
      "execution_count": null,
      "outputs": []
    },
    {
      "cell_type": "markdown",
      "metadata": {
        "id": "ByyPjrCGQYm0"
      },
      "source": [
        "### Dividing dataset into training and test set"
      ]
    },
    {
      "cell_type": "code",
      "metadata": {
        "id": "g04rl7BZOuGc"
      },
      "source": [
        "from sklearn.model_selection import train_test_split\n",
        "X_train, X_test, y_train, y_test = train_test_split(X, y, test_size = 0.20, random_state = 0)"
      ],
      "execution_count": null,
      "outputs": []
    },
    {
      "cell_type": "markdown",
      "metadata": {
        "id": "AdQY92UPQmsq"
      },
      "source": [
        "### Model fitting (Naive Bayes)"
      ]
    },
    {
      "cell_type": "code",
      "metadata": {
        "id": "JXEUR3trOwrv",
        "colab": {
          "base_uri": "https://localhost:8080/"
        },
        "outputId": "3125508f-51d1-40fb-ddae-92c670bf141b"
      },
      "source": [
        "from sklearn.naive_bayes import GaussianNB\n",
        "classifier = GaussianNB()\n",
        "classifier.fit(X_train, y_train)"
      ],
      "execution_count": null,
      "outputs": [
        {
          "output_type": "execute_result",
          "data": {
            "text/plain": [
              "GaussianNB()"
            ]
          },
          "metadata": {},
          "execution_count": 167
        }
      ]
    },
    {
      "cell_type": "code",
      "metadata": {
        "id": "0278nG2ZM69p",
        "colab": {
          "base_uri": "https://localhost:8080/"
        },
        "outputId": "8fc7041a-3bd6-4124-a5b1-35a8eb8ad128"
      },
      "source": [
        "# Exporting NB Classifier to later use in prediction\n",
        "import joblib\n",
        "#joblib.dump(classifier, './drive/MyDrive/Project1_Sentiment_Analysis/already/c2_Classifier_Sentiment_Model') \n",
        "#joblib.dump(classifier, './drive/MyDrive/Project1_Sentiment_Analysis/Half_data/c2_Classifier_Sentiment_Model') \n",
        "#joblib.dump(classifier, './drive/MyDrive/Project1_Sentiment_Analysis/New_try/c2_Classifier_Sentiment_Model') \n",
        "joblib.dump(classifier, './drive/MyDrive/Project1_Sentiment_Analysis/With_actual_words/c2_Classifier_Sentiment_Model') "
      ],
      "execution_count": null,
      "outputs": [
        {
          "output_type": "execute_result",
          "data": {
            "text/plain": [
              "['./drive/MyDrive/Project1_Sentiment_Analysis/With_actual_words/c2_Classifier_Sentiment_Model']"
            ]
          },
          "metadata": {},
          "execution_count": 168
        }
      ]
    },
    {
      "cell_type": "markdown",
      "metadata": {
        "id": "LUpvhmMXQ0LJ"
      },
      "source": [
        "###Model performance"
      ]
    },
    {
      "cell_type": "code",
      "metadata": {
        "id": "fB1-BGFuO17X",
        "colab": {
          "base_uri": "https://localhost:8080/"
        },
        "outputId": "0cce3737-a61a-4c5a-cd97-dbc758a0d238"
      },
      "source": [
        "y_pred = classifier.predict(X_test)\n",
        "\n",
        "from sklearn.metrics import confusion_matrix, accuracy_score, precision_score, recall_score, f1_score\n",
        "cm = confusion_matrix(y_test, y_pred)\n",
        "print(cm)\n",
        "\n",
        "accuracy_score(y_test, y_pred)\n"
      ],
      "execution_count": null,
      "outputs": [
        {
          "output_type": "stream",
          "name": "stdout",
          "text": [
            "[[468 480  22   1]\n",
            " [  0   8   0   0]\n",
            " [  8 186 192   0]\n",
            " [  1   1   0   0]]\n"
          ]
        },
        {
          "output_type": "execute_result",
          "data": {
            "text/plain": [
              "0.48866130212143377"
            ]
          },
          "metadata": {},
          "execution_count": 169
        }
      ]
    },
    {
      "cell_type": "code",
      "source": [
        "precision_score(y_test, y_pred, average='macro')"
      ],
      "metadata": {
        "colab": {
          "base_uri": "https://localhost:8080/"
        },
        "id": "rD3WbeMmp1Fs",
        "outputId": "a8db322b-8526-42f1-c8ed-2b8535e28624"
      },
      "execution_count": null,
      "outputs": [
        {
          "output_type": "execute_result",
          "data": {
            "text/plain": [
              "0.47254504725144825"
            ]
          },
          "metadata": {},
          "execution_count": 170
        }
      ]
    },
    {
      "cell_type": "code",
      "source": [
        "recall_score(y_test, y_pred, average = \"macro\")"
      ],
      "metadata": {
        "colab": {
          "base_uri": "https://localhost:8080/"
        },
        "id": "T__UMaVMq-N1",
        "outputId": "db53462a-1a18-4f0e-d3e2-56e44a5f758d"
      },
      "execution_count": null,
      "outputs": [
        {
          "output_type": "execute_result",
          "data": {
            "text/plain": [
              "0.4948466673425719"
            ]
          },
          "metadata": {},
          "execution_count": 171
        }
      ]
    },
    {
      "cell_type": "code",
      "source": [
        "f1_score(y_test, y_pred, average = \"macro\")"
      ],
      "metadata": {
        "colab": {
          "base_uri": "https://localhost:8080/"
        },
        "id": "ZL9E_jT_rA1k",
        "outputId": "f8037575-3d0f-416e-d183-e327b082d490"
      },
      "execution_count": null,
      "outputs": [
        {
          "output_type": "execute_result",
          "data": {
            "text/plain": [
              "0.3274587253181042"
            ]
          },
          "metadata": {},
          "execution_count": 172
        }
      ]
    },
    {
      "cell_type": "markdown",
      "source": [
        "48.86% - for With_actual_words accuracy\n",
        "\n",
        "42.85% - for New_try - specific selected words from existing reviews\n",
        "\n",
        "69.23% - Half data accuracy\n",
        "\n",
        "72.77% - for Restaurant review data\n",
        "\n"
      ],
      "metadata": {
        "id": "s_Tnwv_oliou"
      }
    }
  ]
}